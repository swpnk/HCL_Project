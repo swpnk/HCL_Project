{
 "cells": [
  {
   "cell_type": "code",
   "execution_count": 2,
   "metadata": {},
   "outputs": [
    {
     "name": "stderr",
     "output_type": "stream",
     "text": [
      "[nltk_data] Downloading package punkt to\n",
      "[nltk_data]     C:\\Users\\swapn\\AppData\\Roaming\\nltk_data...\n",
      "[nltk_data]   Package punkt is already up-to-date!\n"
     ]
    },
    {
     "data": {
      "text/plain": [
       "True"
      ]
     },
     "execution_count": 2,
     "metadata": {},
     "output_type": "execute_result"
    }
   ],
   "source": [
    "from nltk import *\n",
    "import re\n",
    "import scipy\n",
    "import nltk\n",
    "nltk.download('punkt')"
   ]
  },
  {
   "cell_type": "code",
   "execution_count": 36,
   "metadata": {},
   "outputs": [],
   "source": [
    "f = open(\"C://Users/swapn/Downloads/HCL ML Challenge/HCL ML Challenge Dataset/X8XZI9MH.txt\")\n",
    "raw = f.read()\n",
    "sentence = raw.split(\"\\n\")"
   ]
  },
  {
   "cell_type": "code",
   "execution_count": 37,
   "metadata": {},
   "outputs": [],
   "source": [
    "sep = \" \"\n",
    "list_sentences = []\n",
    "for i in range(len(sentence)):\n",
    "    list_sentences.append(sep.join(word_tokenize(sentence[i].strip())))\n"
   ]
  },
  {
   "cell_type": "code",
   "execution_count": 38,
   "metadata": {},
   "outputs": [
    {
     "data": {
      "text/plain": [
       "['Micro-entity Balance Sheet as at 31 January 2020',\n",
       " 'Notes 2020 2019',\n",
       " 'Â£ Â£',\n",
       " 'Called up share capital not paid - -',\n",
       " 'Fixed Assets 100,000 -',\n",
       " 'Current Assets 300,000 500,000',\n",
       " 'Prepayments and accrued income 150,000 -',\n",
       " 'Net current assets ( liabilities ) 450,000 500,000',\n",
       " 'Total assets less current liabilities 550,000 500,000',\n",
       " 'Total net assets ( liabilities ) 550,000 500,000',\n",
       " 'Capital and reserves 550,000 500,000',\n",
       " 'Â® For the year ending 31 January 2020 the company was entities to exemption under section 477 of',\n",
       " 'the Companies Act 2006 relating to small companies',\n",
       " 'Â® The members have not required the company to obtain an audit in accordance with section 476 of',\n",
       " 'the Companies Act 2006 .',\n",
       " 'Â® The director acknowledge their responsibilities for complying with the requirements of the',\n",
       " 'Companies Act 2006 with respect to accounting records and the preparation of accounts .',\n",
       " 'Â® The accounts have been prepared in accordance with the micro-entity provisions and delivered in',\n",
       " 'accordance with the provisions applicable to companies subject to the small companies regime .',\n",
       " 'Approved by the Board 2 on February 2020',\n",
       " 'And signed on their behalf by :',\n",
       " 'Dan Su , Director',\n",
       " 'This document was delivered using electronic communications and authenticated in accordance with the',\n",
       " \"registrar 's rules relating to electronic form , authentication and manner of delivery under section 1072 of\",\n",
       " 'the Companies Act 2006 .',\n",
       " '']"
      ]
     },
     "execution_count": 38,
     "metadata": {},
     "output_type": "execute_result"
    }
   ],
   "source": [
    "list_sentences"
   ]
  },
  {
   "cell_type": "code",
   "execution_count": 39,
   "metadata": {},
   "outputs": [],
   "source": [
    "patterns = ['assets', 'creditors', 'capital', 'share', 'bank']"
   ]
  },
  {
   "cell_type": "code",
   "execution_count": 40,
   "metadata": {},
   "outputs": [],
   "source": [
    "appended_sentences = []\n",
    "for pattern in patterns:\n",
    "    for line in list_sentences:\n",
    "        line.splitlines()\n",
    "        if pattern in line.lower():\n",
    "            appended_sentences.append(line)"
   ]
  },
  {
   "cell_type": "code",
   "execution_count": 41,
   "metadata": {},
   "outputs": [
    {
     "data": {
      "text/plain": [
       "['Fixed Assets 100000 -',\n",
       " 'Current Assets 300000 500000',\n",
       " 'Net current assets -liabilities 450000 500000',\n",
       " 'Total assets less current liabilities 550000 500000',\n",
       " 'Total net assets -liabilities 550000 500000',\n",
       " 'Called up share capital not paid - -',\n",
       " 'Capital and reserves 550000 500000']"
      ]
     },
     "execution_count": 41,
     "metadata": {},
     "output_type": "execute_result"
    }
   ],
   "source": [
    "unique_sentences = unique_list(appended_sentences)\n",
    "unique_sentences = list(map(lambda x:x.replace(\",\",\"\"), unique_sentences))\n",
    "unique_sentences = list(map(lambda x:x.replace(\"( \",\"-\"), unique_sentences))\n",
    "unique_sentences = list(map(lambda x:x.replace(\" )\",\"\"), unique_sentences))\n",
    "unique_sentences"
   ]
  },
  {
   "cell_type": "code",
   "execution_count": 42,
   "metadata": {},
   "outputs": [],
   "source": [
    "result = re.split(r'(-?\\d*\\.?\\d+ )', unique_sentences[0])"
   ]
  },
  {
   "cell_type": "code",
   "execution_count": 22,
   "metadata": {},
   "outputs": [
    {
     "data": {
      "text/plain": [
       "['Net current assets -liabilities ', '217 ', '-7702']"
      ]
     },
     "execution_count": 22,
     "metadata": {},
     "output_type": "execute_result"
    }
   ],
   "source": []
  },
  {
   "cell_type": "code",
   "execution_count": 43,
   "metadata": {},
   "outputs": [
    {
     "data": {
      "text/plain": [
       "['Fixed Assets ', '100000 ', '-']"
      ]
     },
     "execution_count": 43,
     "metadata": {},
     "output_type": "execute_result"
    }
   ],
   "source": [
    "result"
   ]
  },
  {
   "cell_type": "code",
   "execution_count": null,
   "metadata": {},
   "outputs": [],
   "source": [
    "dict_1 = {result[0]:result[1]}"
   ]
  },
  {
   "cell_type": "code",
   "execution_count": null,
   "metadata": {},
   "outputs": [],
   "source": [
    "dict_1.update({result[0].strip():result[1].strip()})\n",
    "dict_1"
   ]
  },
  {
   "cell_type": "code",
   "execution_count": null,
   "metadata": {},
   "outputs": [],
   "source": []
  }
 ],
 "metadata": {
  "kernelspec": {
   "display_name": "Python 3",
   "language": "python",
   "name": "python3"
  },
  "language_info": {
   "codemirror_mode": {
    "name": "ipython",
    "version": 3
   },
   "file_extension": ".py",
   "mimetype": "text/x-python",
   "name": "python",
   "nbconvert_exporter": "python",
   "pygments_lexer": "ipython3",
   "version": "3.7.4"
  }
 },
 "nbformat": 4,
 "nbformat_minor": 2
}
